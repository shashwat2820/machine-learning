{
  "cells": [
    {
      "cell_type": "markdown",
      "metadata": {
        "id": "view-in-github",
        "colab_type": "text"
      },
      "source": [
        "<a href=\"https://colab.research.google.com/github/shashwat2820/machine-learning/blob/main/linear_regression.ipynb\" target=\"_parent\"><img src=\"https://colab.research.google.com/assets/colab-badge.svg\" alt=\"Open In Colab\"/></a>"
      ]
    },
    {
      "cell_type": "code",
      "execution_count": 2,
      "metadata": {
        "colab": {
          "base_uri": "https://localhost:8080/"
        },
        "id": "VaUCV0aAXpmO",
        "outputId": "fdf92c98-b59a-43d0-be63-857fb486a03b"
      },
      "outputs": [
        {
          "output_type": "stream",
          "name": "stdout",
          "text": [
            "    YearsExperience  Salary\n",
            "0               1.1   39343\n",
            "1               1.3   46205\n",
            "2               1.5   37731\n",
            "3               2.0   43525\n",
            "4               2.2   39891\n",
            "5               2.9   56642\n",
            "6               3.0   60150\n",
            "7               3.2   54445\n",
            "8               3.2   64445\n",
            "9               3.7   57189\n",
            "10              3.9   63218\n",
            "11              4.0   55794\n",
            "12              4.0   56957\n",
            "13              4.1   57081\n",
            "14              4.5   61111\n",
            "15              4.9   67938\n",
            "16              5.1   66029\n",
            "17              5.3   83088\n",
            "18              5.9   81363\n",
            "19              6.0   93940\n",
            "20              6.8   91738\n",
            "21              7.1   98273\n",
            "22              7.9  101302\n",
            "23              8.2  113812\n",
            "24              8.7  109431\n",
            "25              9.0  105582\n",
            "26              9.5  116969\n",
            "27              9.6  112635\n",
            "28             10.3  122391\n",
            "29             10.5  121872\n",
            "30             11.2  127345\n",
            "31             11.5  126756\n",
            "32             12.3  128765\n",
            "33             12.9  135675\n",
            "34             13.5  139465\n",
            "[[ 1.1]\n",
            " [ 1.3]\n",
            " [ 1.5]\n",
            " [ 2. ]\n",
            " [ 2.2]\n",
            " [ 2.9]\n",
            " [ 3. ]\n",
            " [ 3.2]\n",
            " [ 3.2]\n",
            " [ 3.7]\n",
            " [ 3.9]\n",
            " [ 4. ]\n",
            " [ 4. ]\n",
            " [ 4.1]\n",
            " [ 4.5]\n",
            " [ 4.9]\n",
            " [ 5.1]\n",
            " [ 5.3]\n",
            " [ 5.9]\n",
            " [ 6. ]\n",
            " [ 6.8]\n",
            " [ 7.1]\n",
            " [ 7.9]\n",
            " [ 8.2]\n",
            " [ 8.7]\n",
            " [ 9. ]\n",
            " [ 9.5]\n",
            " [ 9.6]\n",
            " [10.3]\n",
            " [10.5]\n",
            " [11.2]\n",
            " [11.5]\n",
            " [12.3]\n",
            " [12.9]\n",
            " [13.5]]\n",
            "[[ 39343]\n",
            " [ 46205]\n",
            " [ 37731]\n",
            " [ 43525]\n",
            " [ 39891]\n",
            " [ 56642]\n",
            " [ 60150]\n",
            " [ 54445]\n",
            " [ 64445]\n",
            " [ 57189]\n",
            " [ 63218]\n",
            " [ 55794]\n",
            " [ 56957]\n",
            " [ 57081]\n",
            " [ 61111]\n",
            " [ 67938]\n",
            " [ 66029]\n",
            " [ 83088]\n",
            " [ 81363]\n",
            " [ 93940]\n",
            " [ 91738]\n",
            " [ 98273]\n",
            " [101302]\n",
            " [113812]\n",
            " [109431]\n",
            " [105582]\n",
            " [116969]\n",
            " [112635]\n",
            " [122391]\n",
            " [121872]\n",
            " [127345]\n",
            " [126756]\n",
            " [128765]\n",
            " [135675]\n",
            " [139465]]\n"
          ]
        }
      ],
      "source": [
        "import pandas as pd \n",
        "\n",
        "df = pd.read_csv('/content/Salary.csv') # loading dataset \n",
        "X = df.iloc[:,[0]].values\n",
        "y = df.iloc[:,[1]].values\n",
        "print(df)\n",
        "print(X)\n",
        "print(y)"
      ]
    },
    {
      "cell_type": "code",
      "execution_count": 3,
      "metadata": {
        "colab": {
          "base_uri": "https://localhost:8080/",
          "height": 330
        },
        "id": "m0ERS9d6Xpmd",
        "outputId": "4aa2510c-5bbe-40cf-c7ee-a3f5b90f2b25"
      },
      "outputs": [
        {
          "output_type": "stream",
          "name": "stdout",
          "text": [
            "The linear regression coefficient of y on x  [8731.94104706]\n",
            "The Y-intercept of the regression line [28859.52619453]\n"
          ]
        },
        {
          "output_type": "display_data",
          "data": {
            "image/png": "[encoded data removed]",
            "text/plain": [
              "<Figure size 432x288 with 1 Axes>"
            ]
          },
          "metadata": {
            "needs_background": "light"
          }
        }
      ],
      "source": [
        "import numpy as np \n",
        "\n",
        "mean_x = np.mean(X)\n",
        "mean_y = np.mean(y)\n",
        "\n",
        "n = len(X)\n",
        "\n",
        "numer = 0 \n",
        "denom = 0 \n",
        "\n",
        "for i in range(n):\n",
        "    numer += (X[i] - mean_x) * (y[i] - mean_y)\n",
        "    denom += (X[i] - mean_x)**2\n",
        "\n",
        "m = numer / denom\n",
        "c = mean_y - m*mean_x\n",
        "\n",
        "print(\"The linear regression coefficient of y on x \" , m)\n",
        "print(\"The Y-intercept of the regression line\" , c)\n",
        "\n",
        "import matplotlib.pyplot as plt \n",
        "\n",
        "plt.scatter(X , y , color = 'red')\n",
        "\n",
        "#regerssion line\n",
        "\n",
        "y = m*X + c\n",
        "plt.plot(X,y,color = 'blue')\n",
        "\n",
        "plt.title('Salary VS Experience')\n",
        "plt.xlabel('Experience (in Years) ')\n",
        "plt.ylabel('Salary')\n",
        "plt.show()"
      ]
    },
    {
      "cell_type": "code",
      "execution_count": 4,
      "metadata": {
        "colab": {
          "base_uri": "https://localhost:8080/"
        },
        "id": "IvePVb3VXpmh",
        "outputId": "d5de5c71-d308-437a-8bd5-9bc823cf2844"
      },
      "outputs": [
        {
          "output_type": "stream",
          "name": "stdout",
          "text": [
            "[[12.3]\n",
            " [ 9.5]\n",
            " [11.2]\n",
            " [ 3.2]\n",
            " [ 4.1]\n",
            " [ 2.9]\n",
            " [ 5.3]\n",
            " [ 4.5]\n",
            " [11.5]\n",
            " [ 8.7]\n",
            " [ 1.3]\n",
            " [ 4. ]\n",
            " [ 3. ]\n",
            " [ 8.2]\n",
            " [ 2.2]\n",
            " [ 5.9]\n",
            " [ 7.1]\n",
            " [ 6. ]\n",
            " [ 3.7]\n",
            " [ 3.2]\n",
            " [12.9]\n",
            " [ 2. ]\n",
            " [ 1.1]]\n",
            "[[10.5]\n",
            " [ 6.8]\n",
            " [ 5.1]\n",
            " [10.3]\n",
            " [ 7.9]\n",
            " [ 4.9]\n",
            " [ 3.9]\n",
            " [ 1.5]\n",
            " [ 4. ]\n",
            " [ 9.6]\n",
            " [ 9. ]\n",
            " [13.5]]\n",
            "[[136262.4010734 ]\n",
            " [111812.96614163]\n",
            " [126657.26592163]\n",
            " [ 56801.73754513]\n",
            " [ 64660.48448749]\n",
            " [ 54182.15523101]\n",
            " [ 75138.81374396]\n",
            " [ 68153.26090631]\n",
            " [129276.84823575]\n",
            " [104827.41330398]\n",
            " [ 40211.04955571]\n",
            " [ 63787.29038278]\n",
            " [ 55055.34933572]\n",
            " [100461.44278044]\n",
            " [ 48069.79649807]\n",
            " [ 80377.9783722 ]\n",
            " [ 90856.30762868]\n",
            " [ 81251.17247691]\n",
            " [ 61167.70806866]\n",
            " [ 56801.73754513]\n",
            " [141501.56570164]\n",
            " [ 46323.40828866]\n",
            " [ 38464.6613463 ]]\n",
            "[[120544.90718869]\n",
            " [ 88236.72531456]\n",
            " [ 73392.42553455]\n",
            " [118798.51897928]\n",
            " [ 97841.86046633]\n",
            " [ 71646.03732514]\n",
            " [ 62914.09627808]\n",
            " [ 41957.43776513]\n",
            " [ 63787.29038278]\n",
            " [112686.16024633]\n",
            " [107446.99561809]\n",
            " [146740.73032988]]\n"
          ]
        }
      ],
      "source": [
        "from sklearn.model_selection import train_test_split\n",
        "X_train , X_test , y_train , y_test = train_test_split(X , y , test_size= 1/3 , random_state=0 )\n",
        "\n",
        "print(X_train)\n",
        "print(X_test)\n",
        "print(y_train)\n",
        "print(y_test)"
      ]
    },
    {
      "cell_type": "code",
      "execution_count": 5,
      "metadata": {
        "colab": {
          "base_uri": "https://localhost:8080/"
        },
        "id": "9YIbr8WUXpmj",
        "outputId": "5c847841-48b6-4130-ce15-bb88ac5d0813"
      },
      "outputs": [
        {
          "output_type": "execute_result",
          "data": {
            "text/plain": [
              "LinearRegression()"
            ]
          },
          "metadata": {},
          "execution_count": 5
        }
      ],
      "source": [
        "from sklearn.linear_model import LinearRegression \n",
        "regressor = LinearRegression()\n",
        "regressor.fit(X_train , y_train)"
      ]
    },
    {
      "cell_type": "code",
      "execution_count": 6,
      "metadata": {
        "id": "BimmDRr6Xpml"
      },
      "outputs": [],
      "source": [
        "y_pred = regressor.predict(X_test)"
      ]
    },
    {
      "cell_type": "code",
      "execution_count": 7,
      "metadata": {
        "colab": {
          "base_uri": "https://localhost:8080/",
          "height": 295
        },
        "id": "S9fDq-Q3Xpmn",
        "outputId": "c1c3cede-f4c6-4872-97aa-be0cdec4976c"
      },
      "outputs": [
        {
          "output_type": "display_data",
          "data": {
            "image/png": "[encoded data removed]",
            "text/plain": [
              "<Figure size 432x288 with 1 Axes>"
            ]
          },
          "metadata": {
            "needs_background": "light"
          }
        }
      ],
      "source": [
        "# Step 5 - Visualize training set results\n",
        "import matplotlib.pyplot as plt\n",
        "# plot the actual data points of training set\n",
        "plt.scatter(X_train, y_train, color = 'red')\n",
        "# plot the regression line\n",
        "plt.plot(X_train, regressor.predict(X_train), color='blue')\n",
        "plt.title('Salary vs Experience (Training set)')\n",
        "plt.xlabel('Years of Experience') #independent variable\n",
        "plt.ylabel('Salary') #dependent variable\n",
        "plt.show()"
      ]
    },
    {
      "cell_type": "code",
      "execution_count": 8,
      "metadata": {
        "colab": {
          "base_uri": "https://localhost:8080/",
          "height": 295
        },
        "id": "3NwUN_3DXpmr",
        "outputId": "b86e1378-48c9-4304-c88c-c4e07d101daf"
      },
      "outputs": [
        {
          "output_type": "display_data",
          "data": {
            "image/png": "[encoded data removed]",
            "text/plain": [
              "<Figure size 432x288 with 1 Axes>"
            ]
          },
          "metadata": {
            "needs_background": "light"
          }
        }
      ],
      "source": [
        "# visualising the training data \n",
        "import matplotlib.pyplot as plt \n",
        "\n",
        "# plotting the actual dat points of the training set\n",
        "plt.scatter(X_train , y_train , color = 'red')\n",
        "\n",
        "# ploptting the regerssion line \n",
        "plt.plot(X_train , regressor.predict(X_train) , color = 'blue')\n",
        "plt.title('Salary VS Experience')\n",
        "plt.xlabel('experience(in years)') \n",
        "plt.ylabel('Salary')\n",
        "plt.show()"
      ]
    },
    {
      "cell_type": "code",
      "execution_count": 9,
      "metadata": {
        "colab": {
          "base_uri": "https://localhost:8080/",
          "height": 295
        },
        "id": "UuNfnRkaXpmu",
        "outputId": "0fad77cd-7225-4f6d-8677-a4c711c5b5df"
      },
      "outputs": [
        {
          "output_type": "display_data",
          "data": {
            "image/png": "[encoded data removed]",
            "text/plain": [
              "<Figure size 432x288 with 1 Axes>"
            ]
          },
          "metadata": {
            "needs_background": "light"
          }
        }
      ],
      "source": [
        "# visualise the testing data\n",
        "import matplotlib.pyplot as plt \n",
        "\n",
        "# visualising the training set data as as scatter plots \n",
        "plt.scatter(X_test , y_test , color = 'red')\n",
        "\n",
        "\n",
        "# visualising the training inputs ans the values predicte from the testing inputs as the regression line \n",
        "plt.plot(X_test , y_pred , color = 'blue')\n",
        "plt.title('Salaruy Vs Experience')\n",
        "plt.xlabel('Experience (in years)')\n",
        "plt.ylabel('Salary')\n",
        "plt.show()"
      ]
    },
    {
      "cell_type": "code",
      "execution_count": 10,
      "metadata": {
        "colab": {
          "base_uri": "https://localhost:8080/"
        },
        "id": "Mi3GejtvXpmy",
        "outputId": "1de3b392-d1be-4526-a395-1fc09166afc7"
      },
      "outputs": [
        {
          "output_type": "stream",
          "name": "stdout",
          "text": [
            "the predicted salary of a person with 11 years of work experience  [[124910.87771222]]\n"
          ]
        }
      ],
      "source": [
        "# new salary prediction\n",
        "new_salary_pred = regressor.predict([[11]])\n",
        "print(\"the predicted salary of a person with 11 years of work experience \", new_salary_pred)"
      ]
    },
    {
      "cell_type": "code",
      "execution_count": 11,
      "metadata": {
        "colab": {
          "base_uri": "https://localhost:8080/"
        },
        "id": "YiO6yXu_Xpm0",
        "outputId": "06498172-def0-44fd-9694-db9fab576b69"
      },
      "outputs": [
        {
          "output_type": "stream",
          "name": "stdout",
          "text": [
            "Coefficient [[8731.94104706]]\n",
            "intercept [28859.52619453]\n"
          ]
        }
      ],
      "source": [
        "# linear regression coefficients\n",
        "\n",
        "print(\"Coefficient\" , regressor.coef_)\n",
        "print(\"intercept\" , regressor.intercept_)\n"
      ]
    },
    {
      "cell_type": "code",
      "execution_count": 12,
      "metadata": {
        "colab": {
          "base_uri": "https://localhost:8080/"
        },
        "id": "x8z-C_VRXpm3",
        "outputId": "31ca4d81-77b0-48b6-a692-0de3d4478c85"
      },
      "outputs": [
        {
          "output_type": "stream",
          "name": "stdout",
          "text": [
            "MSE 7.014491594449675e-22\n",
            "MAE 2.6072181450823944e-11\n",
            "RMSE 2.648488549050132e-11\n"
          ]
        }
      ],
      "source": [
        "# Error printing\n",
        "\n",
        "from sklearn import metrics\n",
        "print(\"MSE\" , metrics.mean_squared_error(y_test , y_pred))\n",
        "print(\"MAE\" , metrics.mean_absolute_error(y_test , y_pred))\n",
        "print(\"RMSE\" , np.sqrt(metrics.mean_squared_error(y_test , y_pred)))"
      ]
    }
  ],
  "metadata": {
    "interpreter": {
      "hash": "7c62bde2bd420ee1979732cd240f717f623403773863cbe09c44ab7a575b370b"
    },
    "kernelspec": {
      "display_name": "Python 3.9.1 64-bit",
      "name": "python3"
    },
    "language_info": {
      "name": "python",
      "version": ""
    },
    "metadata": {
      "interpreter": {
        "hash": "7c62bde2bd420ee1979732cd240f717f623403773863cbe09c44ab7a575b370b"
      }
    },
    "orig_nbformat": 2,
    "colab": {
      "name": "linear-regression.ipynb",
      "provenance": [],
      "include_colab_link": true
    }
  },
  "nbformat": 4,
  "nbformat_minor": 0
}