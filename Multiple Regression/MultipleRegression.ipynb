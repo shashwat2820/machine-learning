{
 "metadata": {
  "language_info": {
   "codemirror_mode": {
    "name": "ipython",
    "version": 3
   },
   "file_extension": ".py",
   "mimetype": "text/x-python",
   "name": "python",
   "nbconvert_exporter": "python",
   "pygments_lexer": "ipython3",
   "version": "3.9.1"
  },
  "orig_nbformat": 2,
  "kernelspec": {
   "name": "python3",
   "display_name": "Python 3.9.1 64-bit"
  },
  "interpreter": {
   "hash": "7c62bde2bd420ee1979732cd240f717f623403773863cbe09c44ab7a575b370b"
  }
 },
 "nbformat": 4,
 "nbformat_minor": 2,
 "cells": [
  {
   "cell_type": "code",
   "execution_count": 9,
   "metadata": {},
   "outputs": [],
   "source": [
    "# Multiple regression is like linear regression, but with more than one independe\n",
    "# meaning that we try to predict a value based on two or more variables.\n",
    "#import libraries\n",
    "import pandas as pd\n",
    "import numpy as np\n",
    "from sklearn import linear_model\n",
    "from sklearn.model_selection import train_test_split"
   ]
  },
  {
   "cell_type": "code",
   "execution_count": 10,
   "metadata": {},
   "outputs": [
    {
     "output_type": "stream",
     "name": "stdout",
     "text": [
      "           Car       Model  Volume  Weight  CO2\n0       Toyoty        Aygo    1000     790   99\n1   Mitsubishi  Space Star    1200    1160   95\n2        Skoda      Citigo    1000     929   95\n3         Fiat         500     900     865   90\n4         Mini      Cooper    1500    1140  105\n5           VW         Up!    1000     929  105\n6        Skoda       Fabia    1400    1109   90\n7     Mercedes     A-Class    1500    1365   92\n8         Ford      Fiesta    1500    1112   98\n9         Audi          A1    1600    1150   99\n10     Hyundai         I20    1100     980   99\n11      Suzuki       Swift    1300     990  101\n12        Ford      Fiesta    1000    1112   99\n13       Honda       Civic    1600    1252   94\n14      Hundai         I30    1600    1326   97\n15        Opel       Astra    1600    1330   97\n16         BMW           1    1600    1365   99\n17       Mazda           3    2200    1280  104\n18       Skoda       Rapid    1600    1119  104\n19        Ford       Focus    2000    1328  105\n20        Ford      Mondeo    1600    1584   94\n21        Opel    Insignia    2000    1428   99\n22    Mercedes     C-Class    2100    1365   99\n23       Skoda     Octavia    1600    1415   99\n24       Volvo         S60    2000    1415   99\n25    Mercedes         CLA    1500    1465  102\n26        Audi          A4    2000    1490  104\n27        Audi          A6    2000    1725  114\n28       Volvo         V70    1600    1523  109\n29         BMW           5    2000    1705  114\n30    Mercedes     E-Class    2100    1605  115\n31       Volvo        XC70    2000    1746  117\n32        Ford       B-Max    1600    1235  104\n33         BMW         216    1600    1390  108\n34        Opel      Zafira    1600    1405  109\n35    Mercedes         SLK    2500    1395  120\n    Weight  Volume\n0      790    1000\n1     1160    1200\n2      929    1000\n3      865     900\n4     1140    1500\n5      929    1000\n6     1109    1400\n7     1365    1500\n8     1112    1500\n9     1150    1600\n10     980    1100\n11     990    1300\n12    1112    1000\n13    1252    1600\n14    1326    1600\n15    1330    1600\n16    1365    1600\n17    1280    2200\n18    1119    1600\n19    1328    2000\n20    1584    1600\n21    1428    2000\n22    1365    2100\n23    1415    1600\n24    1415    2000\n25    1465    1500\n26    1490    2000\n27    1725    2000\n28    1523    1600\n29    1705    2000\n30    1605    2100\n31    1746    2000\n32    1235    1600\n33    1390    1600\n34    1405    1600\n35    1395    2500\n0      99\n1      95\n2      95\n3      90\n4     105\n5     105\n6      90\n7      92\n8      98\n9      99\n10     99\n11    101\n12     99\n13     94\n14     97\n15     97\n16     99\n17    104\n18    104\n19    105\n20     94\n21     99\n22     99\n23     99\n24     99\n25    102\n26    104\n27    114\n28    109\n29    114\n30    115\n31    117\n32    104\n33    108\n34    109\n35    120\nName: CO2, dtype: int64\n"
     ]
    }
   ],
   "source": [
    "# Reading the dataset\n",
    "df = pd.read_csv(\"cars.csv\")\n",
    "X = df[['Weight', 'Volume']] #independent variables\n",
    "y = df['CO2'] #dependent variable\n",
    "print (df)\n",
    "print (X)\n",
    "print (y)"
   ]
  },
  {
   "cell_type": "code",
   "execution_count": 11,
   "metadata": {},
   "outputs": [
    {
     "output_type": "execute_result",
     "data": {
      "text/plain": [
       "Index(['Car', 'Model', 'Volume', 'Weight', 'CO2'], dtype='object')"
      ]
     },
     "metadata": {},
     "execution_count": 11
    }
   ],
   "source": [
    "# all column name\n",
    "df.columns"
   ]
  },
  {
   "cell_type": "code",
   "execution_count": 12,
   "metadata": {},
   "outputs": [
    {
     "output_type": "stream",
     "name": "stdout",
     "text": [
      "    Weight  Volume\n29    1705    2000\n27    1725    2000\n35    1395    2500\n33    1390    1600\n28    1523    1600\n32    1235    1600\n8     1112    1500\n13    1252    1600\n5      929    1000\n17    1280    2200\n14    1326    1600\n7     1365    1500\n26    1490    2000\n1     1160    1200\n12    1112    1000\n25    1465    1500\n24    1415    2000\n6     1109    1400\n23    1415    1600\n4     1140    1500\n18    1119    1600\n21    1428    2000\n19    1328    2000\n9     1150    1600\n34    1405    1600\n3      865     900\n0      790    1000\n    Weight  Volume\n31    1746    2000\n20    1584    1600\n16    1365    1600\n30    1605    2100\n22    1365    2100\n15    1330    1600\n10     980    1100\n2      929    1000\n11     990    1300\n29    114\n27    114\n35    120\n33    108\n28    109\n32    104\n8      98\n13     94\n5     105\n17    104\n14     97\n7      92\n26    104\n1      95\n12     99\n25    102\n24     99\n6      90\n23     99\n4     105\n18    104\n21     99\n19    105\n9      99\n34    109\n3      90\n0      99\nName: CO2, dtype: int64\n31    117\n20     94\n16     99\n30    115\n22     99\n15     97\n10     99\n2      95\n11    101\nName: CO2, dtype: int64\n"
     ]
    }
   ],
   "source": [
    "# split data into train and test\n",
    "X_train, X_test, y_train, y_test = train_test_split(X, y, test_size = 0.25, random_state = 0)\n",
    "print (X_train)\n",
    "print (X_test)\n",
    "print (y_train)\n",
    "print (y_test)"
   ]
  },
  {
   "cell_type": "code",
   "execution_count": 13,
   "metadata": {},
   "outputs": [],
   "source": [
    "# Builiding the model\n",
    "from sklearn.linear_model import LinearRegression\n",
    "# instantiate or object\n",
    "model = LinearRegression()\n",
    "# fit\n",
    "model.fit(X_train, y_train) #Training data set\n",
    "# predict\n",
    "y_pred = model.predict(X_test) # Testing data set"
   ]
  },
  {
   "cell_type": "code",
   "execution_count": 14,
   "metadata": {},
   "outputs": [
    {
     "output_type": "stream",
     "name": "stdout",
     "text": [
      "0.38868909980537814\n"
     ]
    }
   ],
   "source": [
    "# Model Evaluation\n",
    "# It can be done by R2 Score\n",
    "# Now comes the moment of truth — how well does the model perform?\n",
    "# There are many ways to evaluate model performance but in classical statistics,\n",
    "# the performance of linear regression models is evaluated with R2 — which gives\n",
    "# and the higher the R2 the better the model.\n",
    "from sklearn.metrics import r2_score\n",
    "# model evaluation\n",
    "score = r2_score(y_test, y_pred)\n",
    "print(score)# score"
   ]
  },
  {
   "cell_type": "code",
   "execution_count": 15,
   "metadata": {},
   "outputs": [
    {
     "output_type": "stream",
     "name": "stdout",
     "text": [
      "[117.45664537]\n"
     ]
    }
   ],
   "source": [
    "#predict the CO2 emission of a car where the weight is 2300kg, and the volume is\n",
    "predictedCO2 = model.predict([[3000, 1800]]) #Putting new value to get the predic\n",
    "print(predictedCO2)"
   ]
  }
 ]
}